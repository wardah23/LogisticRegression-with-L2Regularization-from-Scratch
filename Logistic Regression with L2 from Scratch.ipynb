{
 "cells": [
  {
   "cell_type": "markdown",
   "id": "3aa72c50",
   "metadata": {},
   "source": [
    "### Model Logistic Regression with Ridge Regression"
   ]
  },
  {
   "cell_type": "code",
   "execution_count": 1,
   "id": "de22e30b",
   "metadata": {},
   "outputs": [],
   "source": [
    "import numpy as np\n",
    "import matplotlib.pyplot as plt"
   ]
  },
  {
   "cell_type": "code",
   "execution_count": 41,
   "id": "a1e55e29",
   "metadata": {},
   "outputs": [],
   "source": [
    "class LogReg:\n",
    "    #inisialisasi\n",
    "    def __init__(self, learning_rate=0.01, num_iterations=100, lambda_l2=0.1):\n",
    "        self.learning_rate = learning_rate\n",
    "        self.num_iterations = num_iterations\n",
    "        self.lambda_l2 = lambda_l2\n",
    "        self.weights = None\n",
    "        self.bias = None\n",
    "        \n",
    "    #sigmoid function\n",
    "    def sigmoid(self, z):\n",
    "        return 1 / (1 + np.exp(-z))\n",
    "    \n",
    "    #cost function with binary cross-entropy\n",
    "    def cost_function(self, X, y):\n",
    "        m = X.shape[0]\n",
    "        y_hat = self.sigmoid(np.dot(X, self.weights) + self.bias)\n",
    "        cost = (-1 / m) * np.sum(y * np.log(y_hat) + (1 - y) * np.log(1 - y_hat))\n",
    "        ridge_regularization = (self.lambda_l2 / (2 * m)) * np.sum(np.square(self.weights))\n",
    "        cost = cost + ridge_regularization\n",
    "        return cost\n",
    "    \n",
    "    #optimaztion with gradient descent\n",
    "    def gradient_descent(self, X, y):\n",
    "        m = X.shape[0]\n",
    "        y_hat = self.sigmoid(np.dot(X, self.weights) + self.bias)\n",
    "        dw = (1 / m) * np.dot(X.T, (y_hat - y)) + (self.lambda_l2 / m) * self.weights\n",
    "        db = (1 / m) * np.sum(y_hat - y)\n",
    "        self.weights = self.weights - self.learning_rate * dw\n",
    "        self.bias = self.bias - self.learning_rate * db\n",
    "        \n",
    "    #fit function\n",
    "    def fit(self, X, y):\n",
    "        n_features = X.shape[1]\n",
    "        self.weights = np.zeros(n_features)\n",
    "        self.bias = 0\n",
    "        costs = []\n",
    "        for i in range(self.num_iterations):\n",
    "            self.gradient_descent(X, y)\n",
    "            cost = self.cost_function(X, y)\n",
    "            costs.append(cost)\n",
    "            if i % 50 == 0:\n",
    "                print(f\"Cost after iteration {i}: {cost}\")\n",
    "        return costs\n",
    "    \n",
    "    #predict function\n",
    "    def predict(self, X):\n",
    "        y_hat = self.sigmoid(np.dot(X, self.weights) + self.bias)\n",
    "        y_pred = np.round(y_hat).astype(int)\n",
    "        return y_pred"
   ]
  },
  {
   "cell_type": "markdown",
   "id": "865eb5e7",
   "metadata": {},
   "source": [
    "### Implement Model "
   ]
  },
  {
   "cell_type": "code",
   "execution_count": 42,
   "id": "3b370655",
   "metadata": {},
   "outputs": [],
   "source": [
    "from sklearn.datasets import load_breast_cancer\n",
    "from sklearn.preprocessing import StandardScaler\n",
    "from sklearn.model_selection import train_test_split"
   ]
  },
  {
   "cell_type": "code",
   "execution_count": 43,
   "id": "79dbeb3d",
   "metadata": {},
   "outputs": [],
   "source": [
    "# split the data into features and labels\n",
    "X = data.data\n",
    "y = data.target\n",
    "\n",
    "# split the data into training and testing sets\n",
    "X_train, X_test, y_train, y_test = train_test_split(X, y, test_size=0.2, random_state=42)"
   ]
  },
  {
   "cell_type": "code",
   "execution_count": 44,
   "id": "e8b6cf43",
   "metadata": {},
   "outputs": [],
   "source": [
    "# standardize the features\n",
    "scaler = StandardScaler()\n",
    "X_train = scaler.fit_transform(X_train)\n",
    "X_test = scaler.transform(X_test)"
   ]
  },
  {
   "cell_type": "code",
   "execution_count": 51,
   "id": "7ad3816f",
   "metadata": {},
   "outputs": [
    {
     "name": "stdout",
     "output_type": "stream",
     "text": [
      "Cost after iteration 0: 0.5275331668594314\n",
      "Cost after iteration 50: 0.1331572244348908\n",
      "Cost after iteration 100: 0.10639096221781891\n",
      "Cost after iteration 150: 0.09453071848806319\n",
      "Cost after iteration 200: 0.0874684367248958\n",
      "Cost after iteration 250: 0.08264524345471312\n"
     ]
    }
   ],
   "source": [
    "# Impelement model \n",
    "model = LogReg(learning_rate=0.1, num_iterations=300, lambda_l2=0.01)\n",
    "\n",
    "# train the model on the training data\n",
    "training = model.fit(X_train, y_train)"
   ]
  },
  {
   "cell_type": "code",
   "execution_count": 52,
   "id": "36b62b0e",
   "metadata": {},
   "outputs": [
    {
     "data": {
      "text/plain": [
       "array([1, 0, 0, 1, 1, 0, 0, 0, 1, 1, 1, 0, 1, 0, 1, 0, 1, 1, 1, 0, 1, 1,\n",
       "       0, 1, 1, 1, 1, 1, 1, 0, 1, 1, 1, 1, 1, 1, 0, 1, 0, 1, 1, 0, 1, 1,\n",
       "       1, 1, 1, 1, 1, 1, 0, 0, 1, 1, 1, 1, 1, 0, 0, 1, 1, 0, 0, 1, 1, 1,\n",
       "       0, 0, 1, 1, 0, 0, 1, 0, 1, 1, 1, 0, 1, 1, 0, 1, 0, 0, 0, 0, 0, 0,\n",
       "       1, 1, 1, 1, 1, 1, 1, 1, 0, 0, 1, 0, 0, 1, 0, 0, 1, 1, 1, 0, 1, 1,\n",
       "       0, 1, 0, 0])"
      ]
     },
     "execution_count": 52,
     "metadata": {},
     "output_type": "execute_result"
    }
   ],
   "source": [
    "# predict model on data test\n",
    "y_pred = model.predict(X_test)\n",
    "y_pred"
   ]
  },
  {
   "cell_type": "code",
   "execution_count": 53,
   "id": "3c805797",
   "metadata": {},
   "outputs": [
    {
     "name": "stdout",
     "output_type": "stream",
     "text": [
      "Accuracy: 0.9824561403508771\n",
      "Precision: 0.9859154929577465\n",
      "Recall: 0.9859154929577465\n",
      "F1 score: 0.9859154929577465\n"
     ]
    }
   ],
   "source": [
    "from sklearn.metrics import accuracy_score, precision_score, recall_score, f1_score\n",
    "\n",
    "accuracy = accuracy_score(y_test, y_pred)\n",
    "precision = precision_score(y_test, y_pred)\n",
    "recall = recall_score(y_test, y_pred)\n",
    "f1 = f1_score(y_test, y_pred)\n",
    "\n",
    "print(\"Accuracy:\", accuracy)\n",
    "print(\"Precision:\", precision)\n",
    "print(\"Recall:\", recall)\n",
    "print(\"F1 score:\", f1)"
   ]
  }
 ],
 "metadata": {
  "kernelspec": {
   "display_name": "Python 3 (ipykernel)",
   "language": "python",
   "name": "python3"
  },
  "language_info": {
   "codemirror_mode": {
    "name": "ipython",
    "version": 3
   },
   "file_extension": ".py",
   "mimetype": "text/x-python",
   "name": "python",
   "nbconvert_exporter": "python",
   "pygments_lexer": "ipython3",
   "version": "3.9.13"
  }
 },
 "nbformat": 4,
 "nbformat_minor": 5
}
